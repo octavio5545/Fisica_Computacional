{
 "cells": [
  {
   "cell_type": "code",
   "execution_count": 76,
   "id": "c3b96f49",
   "metadata": {},
   "outputs": [],
   "source": [
    "from math import *"
   ]
  },
  {
   "cell_type": "code",
   "execution_count": 1,
   "id": "ff71cd29",
   "metadata": {},
   "outputs": [
    {
     "data": {
      "text/plain": [
       "(4.665, 11.33, 'H', 'o')"
      ]
     },
     "execution_count": 1,
     "metadata": {},
     "output_type": "execute_result"
    }
   ],
   "source": [
    "numero = 9.33\n",
    "frase = \"Hola\"\n",
    "complejo = 3+5J\n",
    "mi_lista = [frase, 4, 3.55, +4+1J ]\n",
    "mi_tupla = (frase, 4, 3.55, +4+1J )\n",
    "numero/2 , numero + 2, frase[0], mi_lista[0][1]"
   ]
  },
  {
   "cell_type": "markdown",
   "id": "00d51172",
   "metadata": {},
   "source": [
    "\n",
    "### Función que calcula es factorial de un número:"
   ]
  },
  {
   "cell_type": "code",
   "execution_count": 34,
   "id": "f20a60b4",
   "metadata": {},
   "outputs": [],
   "source": [
    "def mi_factorial(n):\n",
    "    \n",
    "    fac = 1\n",
    "    for i in range(n):\n",
    "        fac *= i+1\n",
    "    \n",
    "    return fac"
   ]
  },
  {
   "cell_type": "code",
   "execution_count": 39,
   "id": "e2c29c97",
   "metadata": {},
   "outputs": [
    {
     "data": {
      "text/plain": [
       "121645100408832000"
      ]
     },
     "execution_count": 39,
     "metadata": {},
     "output_type": "execute_result"
    }
   ],
   "source": [
    "mi_factorial(19)"
   ]
  },
  {
   "cell_type": "markdown",
   "id": "0ac8fd31",
   "metadata": {},
   "source": [
    " * \"Al trabajar con una computadora debemos considerar las características de la misma (hardware/software)...\""
   ]
  },
  {
   "cell_type": "code",
   "execution_count": 58,
   "id": "6d1c8ddb",
   "metadata": {},
   "outputs": [],
   "source": [
    "def mi_seno(x, k):   # k es el orden de precisión de la serie de Taylor\n",
    "    seno = 0\n",
    "    for n in range(k):\n",
    "        seno = seno + (-1)**n * (x**(2*n+1)/ mi_factorial(2*n+1) )\n",
    "    \n",
    "    return seno"
   ]
  },
  {
   "cell_type": "code",
   "execution_count": 59,
   "id": "bcfdd00d",
   "metadata": {},
   "outputs": [
    {
     "data": {
      "text/plain": [
       "0.8414710097001764"
      ]
     },
     "execution_count": 59,
     "metadata": {},
     "output_type": "execute_result"
    }
   ],
   "source": [
    "mi_seno(1, 5)"
   ]
  },
  {
   "cell_type": "code",
   "execution_count": 79,
   "id": "2af5fa93",
   "metadata": {},
   "outputs": [
    {
     "data": {
      "text/plain": [
       "1.0000035425842861"
      ]
     },
     "execution_count": 79,
     "metadata": {},
     "output_type": "execute_result"
    }
   ],
   "source": [
    "mi_seno(pi/2, 5)"
   ]
  },
  {
   "cell_type": "code",
   "execution_count": 80,
   "id": "3cc0f7a0",
   "metadata": {},
   "outputs": [
    {
     "data": {
      "text/plain": [
       "1.0000000000000002"
      ]
     },
     "execution_count": 80,
     "metadata": {},
     "output_type": "execute_result"
    }
   ],
   "source": [
    "mi_seno(pi/2, 15)"
   ]
  },
  {
   "cell_type": "code",
   "execution_count": 85,
   "id": "3694e01c",
   "metadata": {},
   "outputs": [
    {
     "data": {
      "text/plain": [
       "1.0000000000000002"
      ]
     },
     "execution_count": 85,
     "metadata": {},
     "output_type": "execute_result"
    }
   ],
   "source": [
    "mi_seno(pi/2, 50)"
   ]
  },
  {
   "cell_type": "markdown",
   "id": "aff788b7",
   "metadata": {},
   "source": [
    "Con \"math\" :"
   ]
  },
  {
   "cell_type": "code",
   "execution_count": 77,
   "id": "bb410bed",
   "metadata": {},
   "outputs": [
    {
     "data": {
      "text/plain": [
       "0.8414709848078965"
      ]
     },
     "execution_count": 77,
     "metadata": {},
     "output_type": "execute_result"
    }
   ],
   "source": [
    "sin(1)"
   ]
  },
  {
   "cell_type": "code",
   "execution_count": 81,
   "id": "bc98a498",
   "metadata": {},
   "outputs": [
    {
     "data": {
      "text/plain": [
       "1.0"
      ]
     },
     "execution_count": 81,
     "metadata": {},
     "output_type": "execute_result"
    }
   ],
   "source": [
    "sin(pi/2)"
   ]
  },
  {
   "cell_type": "markdown",
   "id": "3d246fdf",
   "metadata": {},
   "source": [
    "________________"
   ]
  },
  {
   "cell_type": "markdown",
   "id": "b8e7c7ee",
   "metadata": {},
   "source": [
    "#### ¿Cuál es el número más grande que puedo escribir en 64 bits?"
   ]
  },
  {
   "cell_type": "markdown",
   "id": "2cccc0a3",
   "metadata": {},
   "source": [
    "**Respuesta**\n",
    "\n",
    "Sin son 64 bits, encontramos 64 posiciones de 0 ó 1, donde la computadora ocupa un bit (primera posición) para almacenar el signo. Por lo tanto, el máximo número que se podría almacenar sería de $ 1x2^{63} $."
   ]
  },
  {
   "cell_type": "code",
   "execution_count": 71,
   "id": "e640d977",
   "metadata": {},
   "outputs": [
    {
     "name": "stdout",
     "output_type": "stream",
     "text": [
      "9223372036854775807\n"
     ]
    }
   ],
   "source": [
    "number = 0\n",
    "for i in range(63):\n",
    "    number += 2**i\n",
    "    \n",
    "print(number)"
   ]
  },
  {
   "cell_type": "markdown",
   "id": "594fa165",
   "metadata": {},
   "source": [
    "En 64 bits tendríamos un rango de $ -9223372036854775807 $ a $ 9223372036854775807 $"
   ]
  },
  {
   "cell_type": "markdown",
   "id": "51141489",
   "metadata": {},
   "source": [
    "\n",
    "En 32 bits tendríamos :"
   ]
  },
  {
   "cell_type": "code",
   "execution_count": 70,
   "id": "3872877a",
   "metadata": {},
   "outputs": [
    {
     "name": "stdout",
     "output_type": "stream",
     "text": [
      "2147483647\n"
     ]
    }
   ],
   "source": [
    "number = 0\n",
    "for i in range(31):\n",
    "    number += 2**i\n",
    "    \n",
    "print(number)"
   ]
  },
  {
   "cell_type": "code",
   "execution_count": null,
   "id": "70c530c7",
   "metadata": {},
   "outputs": [],
   "source": []
  }
 ],
 "metadata": {
  "kernelspec": {
   "display_name": "Python 3",
   "language": "python",
   "name": "python3"
  },
  "language_info": {
   "codemirror_mode": {
    "name": "ipython",
    "version": 3
   },
   "file_extension": ".py",
   "mimetype": "text/x-python",
   "name": "python",
   "nbconvert_exporter": "python",
   "pygments_lexer": "ipython3",
   "version": "3.8.8"
  }
 },
 "nbformat": 4,
 "nbformat_minor": 5
}
